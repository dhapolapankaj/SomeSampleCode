{
 "cells": [
  {
   "cell_type": "code",
   "execution_count": 78,
   "metadata": {},
   "outputs": [],
   "source": [
    "# Simple_Image Classifier"
   ]
  },
  {
   "cell_type": "code",
   "execution_count": 2,
   "metadata": {},
   "outputs": [],
   "source": [
    "import tensorflow as tf"
   ]
  },
  {
   "cell_type": "code",
   "execution_count": 3,
   "metadata": {},
   "outputs": [],
   "source": [
    "fashion_mnist = tf.keras.datasets.fashion_mnist"
   ]
  },
  {
   "cell_type": "code",
   "execution_count": 4,
   "metadata": {},
   "outputs": [],
   "source": [
    "(X_train, y_train), (X_test, y_test) = fashion_mnist.load_data()"
   ]
  },
  {
   "cell_type": "code",
   "execution_count": 5,
   "metadata": {},
   "outputs": [
    {
     "data": {
      "text/plain": [
       "(60000, 28, 28)"
      ]
     },
     "execution_count": 5,
     "metadata": {},
     "output_type": "execute_result"
    }
   ],
   "source": [
    "X_train.shape"
   ]
  },
  {
   "cell_type": "code",
   "execution_count": 6,
   "metadata": {},
   "outputs": [
    {
     "data": {
      "text/plain": [
       "(10000, 28, 28)"
      ]
     },
     "execution_count": 6,
     "metadata": {},
     "output_type": "execute_result"
    }
   ],
   "source": [
    "X_test.shape"
   ]
  },
  {
   "cell_type": "code",
   "execution_count": 7,
   "metadata": {},
   "outputs": [],
   "source": [
    "#lets defined input shape for our model\n",
    "input_shape = [28,28]"
   ]
  },
  {
   "cell_type": "code",
   "execution_count": 8,
   "metadata": {},
   "outputs": [],
   "source": [
    "#Lets see what is in this X-train[0]"
   ]
  },
  {
   "cell_type": "code",
   "execution_count": 9,
   "metadata": {},
   "outputs": [],
   "source": [
    "import matplotlib.pyplot as plt"
   ]
  },
  {
   "cell_type": "code",
   "execution_count": 10,
   "metadata": {},
   "outputs": [
    {
     "data": {
      "text/plain": [
       "<matplotlib.image.AxesImage at 0x188a4c68438>"
      ]
     },
     "execution_count": 10,
     "metadata": {},
     "output_type": "execute_result"
    },
    {
     "data": {
      "image/png": "[encoded data removed]",
      "text/plain": [
       "<Figure size 432x288 with 1 Axes>"
      ]
     },
     "metadata": {
      "needs_background": "light"
     },
     "output_type": "display_data"
    }
   ],
   "source": [
    "plt.imshow(X_train[0])"
   ]
  },
  {
   "cell_type": "code",
   "execution_count": 11,
   "metadata": {},
   "outputs": [
    {
     "name": "stdout",
     "output_type": "stream",
     "text": [
      "9\n"
     ]
    }
   ],
   "source": [
    "print(y_train[0])"
   ]
  },
  {
   "cell_type": "code",
   "execution_count": 12,
   "metadata": {},
   "outputs": [],
   "source": [
    "#Lets create Valdiation set, also since we are going to train them with Gradient descent, we must scale the input feature"
   ]
  },
  {
   "cell_type": "code",
   "execution_count": 13,
   "metadata": {},
   "outputs": [],
   "source": [
    "X_validation_set = X_train[:5000]/255.0\n",
    "X_train_rest = X_train[5000:]/255.0"
   ]
  },
  {
   "cell_type": "code",
   "execution_count": 14,
   "metadata": {},
   "outputs": [],
   "source": [
    "y_validation_set = y_train[:5000]\n",
    "y_train_rest = y_train[5000:]"
   ]
  },
  {
   "cell_type": "code",
   "execution_count": 15,
   "metadata": {},
   "outputs": [],
   "source": [
    "# Extracted over internet, the class names for fashion mnist data set\n",
    "class_names =['T-shirt/top',\n",
    "'Trouser/pants',\n",
    "'Pullover shirt',\n",
    "'Dress',\n",
    "'Coat',\n",
    "'Sandal',\n",
    "'Shirt',\n",
    "'Sneaker',\n",
    "'Bag',\n",
    "'Ankle boot']"
   ]
  },
  {
   "cell_type": "code",
   "execution_count": 16,
   "metadata": {},
   "outputs": [
    {
     "name": "stdout",
     "output_type": "stream",
     "text": [
      "9\n",
      "Ankle boot\n"
     ]
    },
    {
     "data": {
      "text/plain": [
       "(None, None)"
      ]
     },
     "execution_count": 16,
     "metadata": {},
     "output_type": "execute_result"
    }
   ],
   "source": [
    "print(y_train[0]), print(class_names[y_train[0]])"
   ]
  },
  {
   "cell_type": "code",
   "execution_count": 17,
   "metadata": {},
   "outputs": [
    {
     "data": {
      "text/plain": [
       "(55000, 28, 28)"
      ]
     },
     "execution_count": 17,
     "metadata": {},
     "output_type": "execute_result"
    }
   ],
   "source": [
    "X_train_rest.shape"
   ]
  },
  {
   "cell_type": "code",
   "execution_count": 18,
   "metadata": {},
   "outputs": [],
   "source": [
    "# lets create a model with sequential API"
   ]
  },
  {
   "cell_type": "code",
   "execution_count": 19,
   "metadata": {},
   "outputs": [],
   "source": [
    "our_model = tf.keras.models.Sequential()"
   ]
  },
  {
   "cell_type": "code",
   "execution_count": 20,
   "metadata": {},
   "outputs": [],
   "source": [
    "#our_model.add(tf.keras.layers.Flatten(input_shape=X_train.shape))\n",
    "\n",
    "our_model.add(tf.keras.layers.Flatten(input_shape=[28,28]))"
   ]
  },
  {
   "cell_type": "code",
   "execution_count": 21,
   "metadata": {},
   "outputs": [],
   "source": [
    "our_model.add(tf.keras.layers.Dense(300, activation=tf.keras.activations.relu)) # we can also write activation='relu'"
   ]
  },
  {
   "cell_type": "code",
   "execution_count": 22,
   "metadata": {},
   "outputs": [],
   "source": [
    "our_model.add(tf.keras.layers.Dense(100, activation=tf.keras.activations.relu))"
   ]
  },
  {
   "cell_type": "code",
   "execution_count": 23,
   "metadata": {},
   "outputs": [],
   "source": [
    "our_model.add(tf.keras.layers.Dense(10, activation=tf.keras.activations.softmax))"
   ]
  },
  {
   "cell_type": "code",
   "execution_count": 24,
   "metadata": {},
   "outputs": [
    {
     "data": {
      "text/plain": [
       "[<tensorflow.python.keras.layers.core.Flatten at 0x188a4ce1710>,\n",
       " <tensorflow.python.keras.layers.core.Dense at 0x188a4d2de10>,\n",
       " <tensorflow.python.keras.layers.core.Dense at 0x188bb44a240>,\n",
       " <tensorflow.python.keras.layers.core.Dense at 0x188bb46b550>]"
      ]
     },
     "execution_count": 24,
     "metadata": {},
     "output_type": "execute_result"
    }
   ],
   "source": [
    "our_model.layers #Lets see layers"
   ]
  },
  {
   "cell_type": "code",
   "execution_count": 25,
   "metadata": {},
   "outputs": [
    {
     "name": "stdout",
     "output_type": "stream",
     "text": [
      "Model: \"sequential\"\n",
      "_________________________________________________________________\n",
      "Layer (type)                 Output Shape              Param #   \n",
      "=================================================================\n",
      "flatten (Flatten)            (None, 784)               0         \n",
      "_________________________________________________________________\n",
      "dense (Dense)                (None, 300)               235500    \n",
      "_________________________________________________________________\n",
      "dense_1 (Dense)              (None, 100)               30100     \n",
      "_________________________________________________________________\n",
      "dense_2 (Dense)              (None, 10)                1010      \n",
      "=================================================================\n",
      "Total params: 266,610\n",
      "Trainable params: 266,610\n",
      "Non-trainable params: 0\n",
      "_________________________________________________________________\n"
     ]
    }
   ],
   "source": [
    "our_model.summary()"
   ]
  },
  {
   "cell_type": "code",
   "execution_count": 26,
   "metadata": {},
   "outputs": [
    {
     "data": {
      "text/plain": [
       "235500"
      ]
     },
     "execution_count": 26,
     "metadata": {},
     "output_type": "execute_result"
    }
   ],
   "source": [
    "# Now the number of parameters for first dense layer after first input shape of 28 * 28 i.e. 784 is\n",
    "# 784 * 300 (size is actually 300* 1) + 300 (value of bias terms)\n",
    "# 235500\n",
    "\n",
    "# Parameters can be access as below\n",
    " \n",
    "our_model.layers[1].count_params()"
   ]
  },
  {
   "cell_type": "code",
   "execution_count": 27,
   "metadata": {},
   "outputs": [],
   "source": [
    "weights, biases = our_model.layers[1].get_weights()"
   ]
  },
  {
   "cell_type": "code",
   "execution_count": 28,
   "metadata": {},
   "outputs": [
    {
     "data": {
      "text/plain": [
       "(784, 300)"
      ]
     },
     "execution_count": 28,
     "metadata": {},
     "output_type": "execute_result"
    }
   ],
   "source": [
    "weights.shape"
   ]
  },
  {
   "cell_type": "code",
   "execution_count": 29,
   "metadata": {},
   "outputs": [
    {
     "data": {
      "text/plain": [
       "(300,)"
      ]
     },
     "execution_count": 29,
     "metadata": {},
     "output_type": "execute_result"
    }
   ],
   "source": [
    "biases.shape"
   ]
  },
  {
   "cell_type": "code",
   "execution_count": 30,
   "metadata": {},
   "outputs": [],
   "source": [
    "# Compiling the model"
   ]
  },
  {
   "cell_type": "code",
   "execution_count": 31,
   "metadata": {},
   "outputs": [],
   "source": [
    "our_model.compile(\n",
    "\n",
    "    loss=tf.keras.losses.sparse_categorical_crossentropy, # this paremeter can be passed as 'sparse_categorical_crossentropy'\n",
    "    optimizer = tf.keras.optimizers.SGD(), # This parameter can be passed as 'sgd'\n",
    "    metrics= [tf.keras.metrics.sparse_categorical_accuracy] # this param can be passed as 'accuracy', this is related to loss name\n",
    ")"
   ]
  },
  {
   "cell_type": "code",
   "execution_count": 32,
   "metadata": {},
   "outputs": [],
   "source": [
    "# our_model.compile(\n",
    "\n",
    "#     loss='sparse_categorical_crossentropy', # this paremeter can be passed as 'sparse_categorical_crossentropy'\n",
    "#     optimizer = 'sgd', # This parameter can be passed as 'sgd'\n",
    "#     metrics= ['accuracy'] # this param can be passed as 'accuracy', this is related to loss name\n",
    "# )"
   ]
  },
  {
   "cell_type": "code",
   "execution_count": 33,
   "metadata": {},
   "outputs": [],
   "source": [
    "# since we have sparse labels i.e. ther is just a target class index from 0 to 9 and classes are exclusive\n",
    "# If we had one target probability per class for each instance (like one-hot vector) then we would have used 'categorical_crossentropy' loss\n",
    "# If we had binary classification, then we would have use 'binary_crossentropy' with 'sigmoid' activation and as usuall 'softmax' in output layer"
   ]
  },
  {
   "cell_type": "code",
   "execution_count": 34,
   "metadata": {},
   "outputs": [
    {
     "data": {
      "text/plain": [
       "numpy.ndarray"
      ]
     },
     "execution_count": 34,
     "metadata": {},
     "output_type": "execute_result"
    }
   ],
   "source": [
    "type(X_train_rest)"
   ]
  },
  {
   "cell_type": "code",
   "execution_count": 35,
   "metadata": {},
   "outputs": [
    {
     "name": "stdout",
     "output_type": "stream",
     "text": [
      "WARNING:tensorflow:`period` argument is deprecated. Please use `save_freq` to specify the frequency in number of samples seen.\n"
     ]
    }
   ],
   "source": [
    "# Code to save the model after every 5 epochs\n",
    "import os\n",
    "# Include the epoch in the file name (uses `str.format`)\n",
    "checkpoint_path = \"image_classifier_model/chkpt-{epoch:04d}.ckpt\"\n",
    "checkpoint_dir = os.path.dirname(checkpoint_path)\n",
    "\n",
    "# Create a callback that saves the model's weights every 5 epochs\n",
    "cp_callback = tf.keras.callbacks.ModelCheckpoint(\n",
    "    filepath=checkpoint_path, \n",
    "    verbose=1, \n",
    "    save_weights_only=True,\n",
    "    period=5)\n",
    "\n",
    "# Save the weights using the `checkpoint_path` format\n",
    "our_model.save_weights(checkpoint_path.format(epoch=0))\n",
    "\n",
    "\n"
   ]
  },
  {
   "cell_type": "code",
   "execution_count": 46,
   "metadata": {},
   "outputs": [
    {
     "name": "stdout",
     "output_type": "stream",
     "text": [
      "Train on 55000 samples, validate on 5000 samples\n",
      "Epoch 1/30\n",
      "55000/55000 [==============================] - 7s 133us/sample - loss: 0.2239 - sparse_categorical_accuracy: 0.9193 - val_loss: 0.2963 - val_sparse_categorical_accuracy: 0.8918\n",
      "Epoch 2/30\n",
      "55000/55000 [==============================] - 7s 133us/sample - loss: 0.2192 - sparse_categorical_accuracy: 0.9211 - val_loss: 0.2927 - val_sparse_categorical_accuracy: 0.8962\n",
      "Epoch 3/30\n",
      "55000/55000 [==============================] - 6s 113us/sample - loss: 0.2158 - sparse_categorical_accuracy: 0.9227 - val_loss: 0.2993 - val_sparse_categorical_accuracy: 0.8928\n",
      "Epoch 4/30\n",
      "55000/55000 [==============================] - 7s 127us/sample - loss: 0.2124 - sparse_categorical_accuracy: 0.9242 - val_loss: 0.2927 - val_sparse_categorical_accuracy: 0.8964\n",
      "Epoch 5/30\n",
      "54944/55000 [============================>.] - ETA: 0s - loss: 0.2097 - sparse_categorical_accuracy: 0.9249\n",
      "Epoch 00005: saving model to image_classifier_model/chkpt-0005.ckpt\n",
      "55000/55000 [==============================] - 8s 137us/sample - loss: 0.2096 - sparse_categorical_accuracy: 0.9249 - val_loss: 0.3049 - val_sparse_categorical_accuracy: 0.8922\n",
      "Epoch 6/30\n",
      "55000/55000 [==============================] - 7s 136us/sample - loss: 0.2052 - sparse_categorical_accuracy: 0.9271 - val_loss: 0.3014 - val_sparse_categorical_accuracy: 0.8898\n",
      "Epoch 7/30\n",
      "55000/55000 [==============================] - 8s 143us/sample - loss: 0.2025 - sparse_categorical_accuracy: 0.9272 - val_loss: 0.2971 - val_sparse_categorical_accuracy: 0.8934\n",
      "Epoch 8/30\n",
      "55000/55000 [==============================] - 8s 138us/sample - loss: 0.1990 - sparse_categorical_accuracy: 0.9285 - val_loss: 0.2930 - val_sparse_categorical_accuracy: 0.8964\n",
      "Epoch 9/30\n",
      "55000/55000 [==============================] - 8s 142us/sample - loss: 0.1968 - sparse_categorical_accuracy: 0.9298 - val_loss: 0.2974 - val_sparse_categorical_accuracy: 0.8946\n",
      "Epoch 10/30\n",
      "54912/55000 [============================>.] - ETA: 0s - loss: 0.1938 - sparse_categorical_accuracy: 0.9305\n",
      "Epoch 00010: saving model to image_classifier_model/chkpt-0010.ckpt\n",
      "55000/55000 [==============================] - 8s 142us/sample - loss: 0.1938 - sparse_categorical_accuracy: 0.9305 - val_loss: 0.3007 - val_sparse_categorical_accuracy: 0.8896\n",
      "Epoch 11/30\n",
      "55000/55000 [==============================] - 8s 140us/sample - loss: 0.1901 - sparse_categorical_accuracy: 0.9317 - val_loss: 0.2920 - val_sparse_categorical_accuracy: 0.8932\n",
      "Epoch 12/30\n",
      "55000/55000 [==============================] - 8s 136us/sample - loss: 0.1870 - sparse_categorical_accuracy: 0.9327 - val_loss: 0.2875 - val_sparse_categorical_accuracy: 0.8964\n",
      "Epoch 13/30\n",
      "55000/55000 [==============================] - 8s 142us/sample - loss: 0.1840 - sparse_categorical_accuracy: 0.9345 - val_loss: 0.2833 - val_sparse_categorical_accuracy: 0.8982\n",
      "Epoch 14/30\n",
      "55000/55000 [==============================] - 7s 134us/sample - loss: 0.1817 - sparse_categorical_accuracy: 0.9351 - val_loss: 0.2891 - val_sparse_categorical_accuracy: 0.8928\n",
      "Epoch 15/30\n",
      "54752/55000 [============================>.] - ETA: 0s - loss: 0.1776 - sparse_categorical_accuracy: 0.9357\n",
      "Epoch 00015: saving model to image_classifier_model/chkpt-0015.ckpt\n",
      "55000/55000 [==============================] - 7s 135us/sample - loss: 0.1778 - sparse_categorical_accuracy: 0.9356 - val_loss: 0.3037 - val_sparse_categorical_accuracy: 0.8894\n",
      "Epoch 16/30\n",
      "55000/55000 [==============================] - 8s 140us/sample - loss: 0.1764 - sparse_categorical_accuracy: 0.9367 - val_loss: 0.2975 - val_sparse_categorical_accuracy: 0.8958\n",
      "Epoch 17/30\n",
      "55000/55000 [==============================] - 8s 139us/sample - loss: 0.1734 - sparse_categorical_accuracy: 0.9382 - val_loss: 0.2883 - val_sparse_categorical_accuracy: 0.8972\n",
      "Epoch 18/30\n",
      "55000/55000 [==============================] - 7s 136us/sample - loss: 0.1716 - sparse_categorical_accuracy: 0.9391 - val_loss: 0.2995 - val_sparse_categorical_accuracy: 0.8948\n",
      "Epoch 19/30\n",
      "55000/55000 [==============================] - 8s 138us/sample - loss: 0.1674 - sparse_categorical_accuracy: 0.9401 - val_loss: 0.3048 - val_sparse_categorical_accuracy: 0.8936\n",
      "Epoch 20/30\n",
      "54880/55000 [============================>.] - ETA: 0s - loss: 0.1653 - sparse_categorical_accuracy: 0.9417\n",
      "Epoch 00020: saving model to image_classifier_model/chkpt-0020.ckpt\n",
      "55000/55000 [==============================] - 8s 138us/sample - loss: 0.1655 - sparse_categorical_accuracy: 0.9415 - val_loss: 0.2866 - val_sparse_categorical_accuracy: 0.8970\n",
      "Epoch 21/30\n",
      "55000/55000 [==============================] - 7s 135us/sample - loss: 0.1626 - sparse_categorical_accuracy: 0.9425 - val_loss: 0.2925 - val_sparse_categorical_accuracy: 0.8990\n",
      "Epoch 22/30\n",
      "55000/55000 [==============================] - 7s 134us/sample - loss: 0.1598 - sparse_categorical_accuracy: 0.9432 - val_loss: 0.3033 - val_sparse_categorical_accuracy: 0.8922\n",
      "Epoch 23/30\n",
      "55000/55000 [==============================] - 8s 137us/sample - loss: 0.1577 - sparse_categorical_accuracy: 0.9446 - val_loss: 0.3066 - val_sparse_categorical_accuracy: 0.8944\n",
      "Epoch 24/30\n",
      "55000/55000 [==============================] - 8s 138us/sample - loss: 0.1546 - sparse_categorical_accuracy: 0.9457 - val_loss: 0.2952 - val_sparse_categorical_accuracy: 0.8972\n",
      "Epoch 25/30\n",
      "54944/55000 [============================>.] - ETA: 0s - loss: 0.1518 - sparse_categorical_accuracy: 0.9459\n",
      "Epoch 00025: saving model to image_classifier_model/chkpt-0025.ckpt\n",
      "55000/55000 [==============================] - 8s 141us/sample - loss: 0.1518 - sparse_categorical_accuracy: 0.9459 - val_loss: 0.3053 - val_sparse_categorical_accuracy: 0.8926\n",
      "Epoch 26/30\n",
      "55000/55000 [==============================] - 8s 137us/sample - loss: 0.1508 - sparse_categorical_accuracy: 0.9460 - val_loss: 0.3224 - val_sparse_categorical_accuracy: 0.8920\n",
      "Epoch 27/30\n",
      "55000/55000 [==============================] - 8s 139us/sample - loss: 0.1481 - sparse_categorical_accuracy: 0.9477 - val_loss: 0.3053 - val_sparse_categorical_accuracy: 0.8936\n",
      "Epoch 28/30\n",
      "55000/55000 [==============================] - 8s 138us/sample - loss: 0.1460 - sparse_categorical_accuracy: 0.9483 - val_loss: 0.3074 - val_sparse_categorical_accuracy: 0.8952\n",
      "Epoch 29/30\n",
      "55000/55000 [==============================] - 8s 139us/sample - loss: 0.1443 - sparse_categorical_accuracy: 0.9493 - val_loss: 0.2944 - val_sparse_categorical_accuracy: 0.8960\n",
      "Epoch 30/30\n",
      "54976/55000 [============================>.] - ETA: 0s - loss: 0.1405 - sparse_categorical_accuracy: 0.9499\n",
      "Epoch 00030: saving model to image_classifier_model/chkpt-0030.ckpt\n",
      "55000/55000 [==============================] - 7s 136us/sample - loss: 0.1405 - sparse_categorical_accuracy: 0.9499 - val_loss: 0.3063 - val_sparse_categorical_accuracy: 0.8964\n"
     ]
    }
   ],
   "source": [
    "# Train the model with the new callback\n",
    "history = our_model.fit(\n",
    "    X_train_rest, \n",
    "    y_train_rest, \n",
    "    epochs=30, \n",
    "    callbacks=[cp_callback], \n",
    "    validation_data=(X_validation_set,y_validation_set),\n",
    "    verbose=1\n",
    "    )"
   ]
  },
  {
   "cell_type": "code",
   "execution_count": 37,
   "metadata": {},
   "outputs": [],
   "source": [
    "#our_model.save('Fashion_mnist.ckpkt')"
   ]
  },
  {
   "cell_type": "code",
   "execution_count": 47,
   "metadata": {},
   "outputs": [
    {
     "data": {
      "text/plain": [
       "{'loss': [0.22394160555276005,\n",
       "  0.21921020165356722,\n",
       "  0.2157866671741009,\n",
       "  0.2123804490371184,\n",
       "  0.2096473979733207,\n",
       "  0.2051697935776277,\n",
       "  0.20247002404494718,\n",
       "  0.19897105694250627,\n",
       "  0.19682701212926346,\n",
       "  0.19378365909728137,\n",
       "  0.1901323385783217,\n",
       "  0.1870117997505448,\n",
       "  0.18402574882507325,\n",
       "  0.1817381173285571,\n",
       "  0.1777769935499538,\n",
       "  0.1764220321947878,\n",
       "  0.1733975216518749,\n",
       "  0.17159511724818838,\n",
       "  0.16744381462877447,\n",
       "  0.16552449474334716,\n",
       "  0.16260854427977042,\n",
       "  0.15984789203730496,\n",
       "  0.1577482907078483,\n",
       "  0.15463479585755954,\n",
       "  0.15179876726540653,\n",
       "  0.15084261340444738,\n",
       "  0.1480617853077975,\n",
       "  0.14602222508192061,\n",
       "  0.1443305650678548,\n",
       "  0.1404548089227893],\n",
       " 'sparse_categorical_accuracy': [0.9193091,\n",
       "  0.92114544,\n",
       "  0.92274547,\n",
       "  0.9241818,\n",
       "  0.92489094,\n",
       "  0.9270727,\n",
       "  0.9272182,\n",
       "  0.9285273,\n",
       "  0.9298,\n",
       "  0.9304909,\n",
       "  0.9317273,\n",
       "  0.9326909,\n",
       "  0.9344909,\n",
       "  0.9350909,\n",
       "  0.93561816,\n",
       "  0.9366909,\n",
       "  0.9382182,\n",
       "  0.9391091,\n",
       "  0.9401091,\n",
       "  0.94150907,\n",
       "  0.94247276,\n",
       "  0.9432182,\n",
       "  0.9445636,\n",
       "  0.94569093,\n",
       "  0.94585454,\n",
       "  0.9459636,\n",
       "  0.94774544,\n",
       "  0.9482727,\n",
       "  0.9493273,\n",
       "  0.9499273],\n",
       " 'val_loss': [0.2963130489885807,\n",
       "  0.29271704608500004,\n",
       "  0.29929717746078965,\n",
       "  0.29274091939032076,\n",
       "  0.30486094971895217,\n",
       "  0.3014421578615904,\n",
       "  0.29708677999377253,\n",
       "  0.29301014712303874,\n",
       "  0.29738697264194486,\n",
       "  0.30071777698993685,\n",
       "  0.29204375181496145,\n",
       "  0.2875453107982874,\n",
       "  0.2832854733943939,\n",
       "  0.2891221879094839,\n",
       "  0.303679750148952,\n",
       "  0.2975095628917217,\n",
       "  0.28827732048630716,\n",
       "  0.2994668617606163,\n",
       "  0.3047805813550949,\n",
       "  0.2866404996782541,\n",
       "  0.2925483237296343,\n",
       "  0.3033034597635269,\n",
       "  0.3065853468179703,\n",
       "  0.2952051361292601,\n",
       "  0.30530562401115896,\n",
       "  0.32235818307995795,\n",
       "  0.30530596294254064,\n",
       "  0.30741254016608,\n",
       "  0.2944061036288738,\n",
       "  0.30634012259840965],\n",
       " 'val_sparse_categorical_accuracy': [0.8918,\n",
       "  0.8962,\n",
       "  0.8928,\n",
       "  0.8964,\n",
       "  0.8922,\n",
       "  0.8898,\n",
       "  0.8934,\n",
       "  0.8964,\n",
       "  0.8946,\n",
       "  0.8896,\n",
       "  0.8932,\n",
       "  0.8964,\n",
       "  0.8982,\n",
       "  0.8928,\n",
       "  0.8894,\n",
       "  0.8958,\n",
       "  0.8972,\n",
       "  0.8948,\n",
       "  0.8936,\n",
       "  0.897,\n",
       "  0.899,\n",
       "  0.8922,\n",
       "  0.8944,\n",
       "  0.8972,\n",
       "  0.8926,\n",
       "  0.892,\n",
       "  0.8936,\n",
       "  0.8952,\n",
       "  0.896,\n",
       "  0.8964]}"
      ]
     },
     "execution_count": 47,
     "metadata": {},
     "output_type": "execute_result"
    }
   ],
   "source": [
    "\n",
    "\n",
    "history.history\n"
   ]
  },
  {
   "cell_type": "code",
   "execution_count": 48,
   "metadata": {},
   "outputs": [],
   "source": [
    "import pandas as pd"
   ]
  },
  {
   "cell_type": "code",
   "execution_count": 49,
   "metadata": {},
   "outputs": [],
   "source": [
    "history_data = pd.DataFrame(history.history)"
   ]
  },
  {
   "cell_type": "code",
   "execution_count": 50,
   "metadata": {},
   "outputs": [
    {
     "data": {
      "text/plain": [
       "<matplotlib.axes._subplots.AxesSubplot at 0x188bb4e4eb8>"
      ]
     },
     "execution_count": 50,
     "metadata": {},
     "output_type": "execute_result"
    },
    {
     "data": {
      "image/png": "[encoded data removed]",
      "text/plain": [
       "<Figure size 432x288 with 1 Axes>"
      ]
     },
     "metadata": {
      "needs_background": "light"
     },
     "output_type": "display_data"
    }
   ],
   "source": [
    "history_data.plot()"
   ]
  },
  {
   "cell_type": "code",
   "execution_count": 51,
   "metadata": {},
   "outputs": [
    {
     "name": "stdout",
     "output_type": "stream",
     "text": [
      "10000/10000 [==============================] - 1s 79us/sample - loss: 81.0236 - sparse_categorical_accuracy: 0.8474\n"
     ]
    },
    {
     "data": {
      "text/plain": [
       "[81.0235576761851, 0.8474]"
      ]
     },
     "execution_count": 51,
     "metadata": {},
     "output_type": "execute_result"
    }
   ],
   "source": [
    "our_model.evaluate(X_test,y_test)"
   ]
  },
  {
   "cell_type": "code",
   "execution_count": 63,
   "metadata": {},
   "outputs": [],
   "source": [
    "# Lets predict\n",
    "# lets select random\n",
    "import numpy as np\n",
    "X_to_pred = np.array([X_test[56], X_test[64], X_test[95]])\n"
   ]
  },
  {
   "cell_type": "code",
   "execution_count": 66,
   "metadata": {},
   "outputs": [
    {
     "data": {
      "text/plain": [
       "array([[0., 0., 0., 0., 0., 0., 0., 0., 1., 0.],\n",
       "       [0., 1., 0., 0., 0., 0., 0., 0., 0., 0.],\n",
       "       [0., 0., 0., 0., 0., 0., 0., 0., 1., 0.]], dtype=float32)"
      ]
     },
     "execution_count": 66,
     "metadata": {},
     "output_type": "execute_result"
    }
   ],
   "source": [
    "our_model.predict(X_to_pred)"
   ]
  },
  {
   "cell_type": "code",
   "execution_count": 68,
   "metadata": {},
   "outputs": [
    {
     "data": {
      "text/plain": [
       "array([8, 1, 8], dtype=int64)"
      ]
     },
     "execution_count": 68,
     "metadata": {},
     "output_type": "execute_result"
    }
   ],
   "source": [
    "our_model.predict_classes(X_to_pred)"
   ]
  },
  {
   "cell_type": "code",
   "execution_count": 72,
   "metadata": {},
   "outputs": [
    {
     "data": {
      "text/plain": [
       "array(['Bag', 'Trouser/pants', 'Bag'], dtype='<U14')"
      ]
     },
     "execution_count": 72,
     "metadata": {},
     "output_type": "execute_result"
    }
   ],
   "source": [
    "np.array(class_names)[our_model.predict_classes(X_to_pred)]"
   ]
  },
  {
   "cell_type": "code",
   "execution_count": 75,
   "metadata": {},
   "outputs": [
    {
     "data": {
      "text/plain": [
       "<matplotlib.image.AxesImage at 0x188be7d16a0>"
      ]
     },
     "execution_count": 75,
     "metadata": {},
     "output_type": "execute_result"
    },
    {
     "data": {
      "image/png": "[encoded data removed]",
      "text/plain": [
       "<Figure size 432x288 with 1 Axes>"
      ]
     },
     "metadata": {
      "needs_background": "light"
     },
     "output_type": "display_data"
    }
   ],
   "source": [
    "plt.imshow(X_to_pred[0], cmap='gray')"
   ]
  },
  {
   "cell_type": "code",
   "execution_count": 76,
   "metadata": {},
   "outputs": [
    {
     "data": {
      "text/plain": [
       "<matplotlib.image.AxesImage at 0x188be6d4d30>"
      ]
     },
     "execution_count": 76,
     "metadata": {},
     "output_type": "execute_result"
    },
    {
     "data": {
      "image/png": "[encoded data removed]",
      "text/plain": [
       "<Figure size 432x288 with 1 Axes>"
      ]
     },
     "metadata": {
      "needs_background": "light"
     },
     "output_type": "display_data"
    }
   ],
   "source": [
    "plt.imshow(X_to_pred[1], cmap='gray')"
   ]
  },
  {
   "cell_type": "code",
   "execution_count": 77,
   "metadata": {},
   "outputs": [
    {
     "data": {
      "text/plain": [
       "<matplotlib.image.AxesImage at 0x188be73a438>"
      ]
     },
     "execution_count": 77,
     "metadata": {},
     "output_type": "execute_result"
    },
    {
     "data": {
      "image/png": "[encoded data removed]",
      "text/plain": [
       "<Figure size 432x288 with 1 Axes>"
      ]
     },
     "metadata": {
      "needs_background": "light"
     },
     "output_type": "display_data"
    }
   ],
   "source": [
    "plt.imshow(X_to_pred[2], cmap='gray')"
   ]
  },
  {
   "cell_type": "code",
   "execution_count": null,
   "metadata": {},
   "outputs": [],
   "source": []
  }
 ],
 "metadata": {
  "kernelspec": {
   "display_name": "Python 3",
   "language": "python",
   "name": "python3"
  },
  "language_info": {
   "codemirror_mode": {
    "name": "ipython",
    "version": 3
   },
   "file_extension": ".py",
   "mimetype": "text/x-python",
   "name": "python",
   "nbconvert_exporter": "python",
   "pygments_lexer": "ipython3",
   "version": "3.6.10"
  }
 },
 "nbformat": 4,
 "nbformat_minor": 4
}
